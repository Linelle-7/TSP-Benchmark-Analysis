{
 "cells": [
  {
   "cell_type": "code",
   "execution_count": null,
   "id": "85c9a343",
   "metadata": {},
   "outputs": [],
   "source": []
  },
  {
   "cell_type": "code",
   "execution_count": null,
   "id": "b8ae6d16",
   "metadata": {},
   "outputs": [],
   "source": []
  },
  {
   "cell_type": "code",
   "execution_count": 17,
   "id": "31317939",
   "metadata": {},
   "outputs": [
    {
     "name": "stdout",
     "output_type": "stream",
     "text": [
      "[['03.05.2024-17:11:29' '03.05.2024-17:11:36' '03.05.2024-17:11:58']\n",
      " ['03.05.2024-17:11:58' '03.05.2024-17:12:25' '03.05.2024-17:13:03']\n",
      " ['03.05.2024-17:13:03' '03.05.2024-17:13:10' '03.05.2024-17:13:27']\n",
      " ...\n",
      " ['05.05.2024-01:42:48' '05.05.2024-01:42:56' '05.05.2024-01:43:36']\n",
      " ['05.05.2024-01:43:36' '05.05.2024-01:43:44' '05.05.2024-01:44:26']\n",
      " ['05.05.2024-01:44:26' '05.05.2024-01:44:33' '05.05.2024-01:44:44']]\n",
      "(2000, 3)\n"
     ]
    }
   ],
   "source": [
    "import numpy as np\n",
    "\n",
    "# Datei einlesen und Daten als np array mit gelösche Laufnummern zuückgeben.\n",
    "def readfiles(myfile):\n",
    "    data = []\n",
    "    with open(myfile, \"r\") as file:\n",
    "        for line in file:\n",
    "            parts = line.strip().split()\n",
    "            data.append(parts)\n",
    "    \n",
    "    data =np.array(data)[ : , 1: ]\n",
    "        \n",
    "    return data\n",
    "        \n",
    "\n",
    "# In ein NumPy-Array umwandeln\n",
    "#Laufende Nummer der Instanz von 0 bis 1999 löschen, weil uns nichts bringt.\n",
    "r1=readfiles(\"runtimes.mp80\")\n",
    "\n",
    "print(r1)\n",
    "print (r1.shape)"
   ]
  },
  {
   "cell_type": "code",
   "execution_count": null,
   "id": "bdbccf31",
   "metadata": {},
   "outputs": [],
   "source": [
    "from datetime import datetime\n",
    "\n",
    "r1_times = np.array([[datetime.strptime(x, \"%d.%m.%Y-%H:%M:%S\") for x in row] for row in r1])\n",
    "\n",
    "print(r1_times)\n"
   ]
  }
 ],
 "metadata": {
  "kernelspec": {
   "display_name": "Python 3",
   "language": "python",
   "name": "python3"
  },
  "language_info": {
   "codemirror_mode": {
    "name": "ipython",
    "version": 3
   },
   "file_extension": ".py",
   "mimetype": "text/x-python",
   "name": "python",
   "nbconvert_exporter": "python",
   "pygments_lexer": "ipython3",
   "version": "3.11.9"
  }
 },
 "nbformat": 4,
 "nbformat_minor": 5
}
